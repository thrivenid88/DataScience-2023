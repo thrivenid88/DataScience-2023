{
  "nbformat": 4,
  "nbformat_minor": 0,
  "metadata": {
    "colab": {
      "provenance": [],
      "mount_file_id": "1LbM5_eLG5BmtBiuBheg5wbRWP079j61R",
      "authorship_tag": "ABX9TyPhR18dtkFpm7DyNZF5Ff4y",
      "include_colab_link": true
    },
    "kernelspec": {
      "name": "python3",
      "display_name": "Python 3"
    },
    "language_info": {
      "name": "python"
    }
  },
  "cells": [
    {
      "cell_type": "markdown",
      "metadata": {
        "id": "view-in-github",
        "colab_type": "text"
      },
      "source": [
        "<a href=\"https://colab.research.google.com/github/thrivenid88/DataScience-2023/blob/main/june9modelbuilding.ipynb\" target=\"_parent\"><img src=\"https://colab.research.google.com/assets/colab-badge.svg\" alt=\"Open In Colab\"/></a>"
      ]
    },
    {
      "cell_type": "code",
      "execution_count": 7,
      "metadata": {
        "id": "uL4xOSPg8ah5"
      },
      "outputs": [],
      "source": [
        "from sklearn.linear_model import LogisticRegression"
      ]
    },
    {
      "cell_type": "code",
      "source": [
        "import pandas as pd\n",
        "from sklearn.discriminant_analysis import LinearDiscriminantAnalysis\n",
        "from sklearn.neighbors import KNeighborsClassifier\n",
        "from sklearn.naive_bayes import GaussianNB\n",
        "from sklearn.tree import DecisionTreeClassifier\n",
        "from sklearn.svm import SVC\n",
        "from sklearn.model_selection import train_test_split\n",
        "from sklearn import svm\n",
        "iris=pd.read_csv('/content/drive/MyDrive/iris_csv.csv')\n",
        "print(iris.head(5))"
      ],
      "metadata": {
        "colab": {
          "base_uri": "https://localhost:8080/"
        },
        "id": "eOqriY2m8-7Y",
        "outputId": "b0b457e2-0026-4ebb-f373-428af3319ec3"
      },
      "execution_count": 38,
      "outputs": [
        {
          "output_type": "stream",
          "name": "stdout",
          "text": [
            "   sepallength  sepalwidth  petallength  petalwidth        class\n",
            "0          5.1         3.5          1.4         0.2  Iris-setosa\n",
            "1          4.9         3.0          1.4         0.2  Iris-setosa\n",
            "2          4.7         3.2          1.3         0.2  Iris-setosa\n",
            "3          4.6         3.1          1.5         0.2  Iris-setosa\n",
            "4          5.0         3.6          1.4         0.2  Iris-setosa\n"
          ]
        }
      ]
    },
    {
      "cell_type": "code",
      "source": [
        "logreg_clf = LogisticRegression()"
      ],
      "metadata": {
        "id": "SxDUVR9Q9C8I"
      },
      "execution_count": 41,
      "outputs": []
    },
    {
      "cell_type": "code",
      "source": [
        "logreg_clf.fit(petallength,petalwidth)"
      ],
      "metadata": {
        "colab": {
          "base_uri": "https://localhost:8080/",
          "height": 172
        },
        "id": "5SMnCcre9HIY",
        "outputId": "093891e5-caab-4495-9881-b2532e90aa97"
      },
      "execution_count": 42,
      "outputs": [
        {
          "output_type": "error",
          "ename": "NameError",
          "evalue": "ignored",
          "traceback": [
            "\u001b[0;31m---------------------------------------------------------------------------\u001b[0m",
            "\u001b[0;31mNameError\u001b[0m                                 Traceback (most recent call last)",
            "\u001b[0;32m<ipython-input-42-2b2caa790377>\u001b[0m in \u001b[0;36m<cell line: 1>\u001b[0;34m()\u001b[0m\n\u001b[0;32m----> 1\u001b[0;31m \u001b[0mlogreg_clf\u001b[0m\u001b[0;34m.\u001b[0m\u001b[0mfit\u001b[0m\u001b[0;34m(\u001b[0m\u001b[0mpetallength\u001b[0m\u001b[0;34m,\u001b[0m\u001b[0mpetalwidth\u001b[0m\u001b[0;34m)\u001b[0m\u001b[0;34m\u001b[0m\u001b[0;34m\u001b[0m\u001b[0m\n\u001b[0m",
            "\u001b[0;31mNameError\u001b[0m: name 'petallength' is not defined"
          ]
        }
      ]
    },
    {
      "cell_type": "code",
      "source": [
        "# Pandas \".iloc\" expects row_indexer, column_indexer  \n",
        "X = iris.iloc[:,:-1].values\n",
        "# Now let's tell the dataframe which column we want for the target/labels.  \n",
        "y = iris['class']"
      ],
      "metadata": {
        "id": "9zoMQGL49Ni5"
      },
      "execution_count": 13,
      "outputs": []
    },
    {
      "cell_type": "code",
      "source": [
        "print(X.shape)\n",
        "print(y)"
      ],
      "metadata": {
        "colab": {
          "base_uri": "https://localhost:8080/"
        },
        "id": "3kEhAyyn9dzY",
        "outputId": "d9a9b29b-4ae2-497c-b9c5-52dfba801d89"
      },
      "execution_count": 20,
      "outputs": [
        {
          "output_type": "stream",
          "name": "stdout",
          "text": [
            "(150, 4)\n",
            "0         Iris-setosa\n",
            "1         Iris-setosa\n",
            "2         Iris-setosa\n",
            "3         Iris-setosa\n",
            "4         Iris-setosa\n",
            "            ...      \n",
            "145    Iris-virginica\n",
            "146    Iris-virginica\n",
            "147    Iris-virginica\n",
            "148    Iris-virginica\n",
            "149    Iris-virginica\n",
            "Name: class, Length: 150, dtype: object\n"
          ]
        }
      ]
    },
    {
      "cell_type": "code",
      "source": [
        "X_train, X_test, y_train, y_test = train_test_split(X, y, test_size=0.20, random_state=27)"
      ],
      "metadata": {
        "id": "m2WjRy8E_EiI"
      },
      "execution_count": 28,
      "outputs": []
    },
    {
      "cell_type": "code",
      "source": [
        "print(X_train)  \n",
        "print(y_train)"
      ],
      "metadata": {
        "colab": {
          "base_uri": "https://localhost:8080/"
        },
        "id": "RHDmWJgQBtHG",
        "outputId": "bda49a3f-f78b-4366-b83c-dd81734d3397"
      },
      "execution_count": 29,
      "outputs": [
        {
          "output_type": "stream",
          "name": "stdout",
          "text": [
            "[[6.3 2.7 4.9 1.8]\n",
            " [5.  3.5 1.3 0.3]\n",
            " [6.4 2.7 5.3 1.9]\n",
            " [6.2 2.9 4.3 1.3]\n",
            " [6.7 3.1 4.7 1.5]\n",
            " [4.4 3.  1.3 0.2]\n",
            " [6.8 2.8 4.8 1.4]\n",
            " [6.3 2.5 5.  1.9]\n",
            " [5.8 2.7 3.9 1.2]\n",
            " [4.8 3.1 1.6 0.2]\n",
            " [4.6 3.4 1.4 0.3]\n",
            " [6.3 2.9 5.6 1.8]\n",
            " [5.9 3.2 4.8 1.8]\n",
            " [7.2 3.2 6.  1.8]\n",
            " [4.6 3.6 1.  0.2]\n",
            " [6.  2.9 4.5 1.5]\n",
            " [6.8 3.  5.5 2.1]\n",
            " [7.4 2.8 6.1 1.9]\n",
            " [6.1 2.9 4.7 1.4]\n",
            " [5.  3.5 1.6 0.6]\n",
            " [5.4 3.7 1.5 0.2]\n",
            " [5.1 3.5 1.4 0.2]\n",
            " [5.5 2.4 3.8 1.1]\n",
            " [5.2 3.5 1.5 0.2]\n",
            " [6.3 2.3 4.4 1.3]\n",
            " [5.7 3.8 1.7 0.3]\n",
            " [6.7 3.1 5.6 2.4]\n",
            " [4.8 3.4 1.6 0.2]\n",
            " [4.8 3.  1.4 0.3]\n",
            " [6.5 2.8 4.6 1.5]\n",
            " [5.8 2.7 5.1 1.9]\n",
            " [6.2 2.8 4.8 1.8]\n",
            " [5.7 3.  4.2 1.2]\n",
            " [7.1 3.  5.9 2.1]\n",
            " [6.7 3.3 5.7 2.5]\n",
            " [5.5 2.5 4.  1.3]\n",
            " [6.4 3.1 5.5 1.8]\n",
            " [6.4 2.8 5.6 2.2]\n",
            " [4.3 3.  1.1 0.1]\n",
            " [6.9 3.1 5.4 2.1]\n",
            " [5.  3.2 1.2 0.2]\n",
            " [6.5 3.  5.2 2. ]\n",
            " [6.7 3.3 5.7 2.1]\n",
            " [5.1 3.8 1.9 0.4]\n",
            " [4.9 2.4 3.3 1. ]\n",
            " [5.1 3.8 1.6 0.2]\n",
            " [5.  3.4 1.6 0.4]\n",
            " [5.8 4.  1.2 0.2]\n",
            " [5.8 2.7 4.1 1. ]\n",
            " [5.4 3.  4.5 1.5]\n",
            " [6.3 3.4 5.6 2.4]\n",
            " [6.3 3.3 6.  2.5]\n",
            " [4.5 2.3 1.3 0.3]\n",
            " [6.5 3.2 5.1 2. ]\n",
            " [4.9 3.  1.4 0.2]\n",
            " [6.6 3.  4.4 1.4]\n",
            " [5.8 2.8 5.1 2.4]\n",
            " [7.7 3.  6.1 2.3]\n",
            " [7.  3.2 4.7 1.4]\n",
            " [4.9 3.1 1.5 0.1]\n",
            " [5.9 3.  4.2 1.5]\n",
            " [6.8 3.2 5.9 2.3]\n",
            " [5.6 2.9 3.6 1.3]\n",
            " [5.8 2.7 5.1 1.9]\n",
            " [5.  2.  3.5 1. ]\n",
            " [6.2 2.2 4.5 1.5]\n",
            " [5.4 3.9 1.3 0.4]\n",
            " [6.1 2.8 4.7 1.2]\n",
            " [4.7 3.2 1.6 0.2]\n",
            " [4.4 2.9 1.4 0.2]\n",
            " [5.2 3.4 1.4 0.2]\n",
            " [5.  3.4 1.5 0.2]\n",
            " [7.2 3.6 6.1 2.5]\n",
            " [7.3 2.9 6.3 1.8]\n",
            " [5.1 3.5 1.4 0.3]\n",
            " [5.5 2.4 3.7 1. ]\n",
            " [6.9 3.1 4.9 1.5]\n",
            " [6.7 2.5 5.8 1.8]\n",
            " [5.1 3.3 1.7 0.5]\n",
            " [5.7 2.9 4.2 1.3]\n",
            " [5.6 2.8 4.9 2. ]\n",
            " [5.9 3.  5.1 1.8]\n",
            " [4.4 3.2 1.3 0.2]\n",
            " [5.4 3.9 1.7 0.4]\n",
            " [7.9 3.8 6.4 2. ]\n",
            " [5.7 2.8 4.1 1.3]\n",
            " [5.3 3.7 1.5 0.2]\n",
            " [6.1 2.6 5.6 1.4]\n",
            " [5.6 3.  4.5 1.5]\n",
            " [5.5 4.2 1.4 0.2]\n",
            " [6.  2.2 5.  1.5]\n",
            " [5.5 2.3 4.  1.3]\n",
            " [6.5 3.  5.8 2.2]\n",
            " [5.2 2.7 3.9 1.4]\n",
            " [5.1 3.4 1.5 0.2]\n",
            " [5.1 2.5 3.  1.1]\n",
            " [5.  2.3 3.3 1. ]\n",
            " [6.1 2.8 4.  1.3]\n",
            " [6.  2.2 4.  1. ]\n",
            " [7.7 2.6 6.9 2.3]\n",
            " [4.6 3.1 1.5 0.2]\n",
            " [6.4 3.2 4.5 1.5]\n",
            " [6.  3.4 4.5 1.6]\n",
            " [5.2 4.1 1.5 0.1]\n",
            " [5.7 2.6 3.5 1. ]\n",
            " [5.7 4.4 1.5 0.4]\n",
            " [6.  2.7 5.1 1.6]\n",
            " [5.  3.6 1.4 0.2]\n",
            " [6.  3.  4.8 1.8]\n",
            " [6.1 3.  4.9 1.8]\n",
            " [4.7 3.2 1.3 0.2]\n",
            " [5.7 2.5 5.  2. ]\n",
            " [6.9 3.1 5.1 2.3]\n",
            " [5.  3.  1.6 0.2]\n",
            " [4.8 3.4 1.9 0.2]\n",
            " [4.9 3.1 1.5 0.1]\n",
            " [6.3 3.3 4.7 1.6]\n",
            " [5.4 3.4 1.5 0.4]\n",
            " [6.3 2.5 4.9 1.5]\n",
            " [5.1 3.8 1.5 0.3]]\n",
            "123     Iris-virginica\n",
            "40         Iris-setosa\n",
            "111     Iris-virginica\n",
            "97     Iris-versicolor\n",
            "86     Iris-versicolor\n",
            "            ...       \n",
            "37         Iris-setosa\n",
            "56     Iris-versicolor\n",
            "31         Iris-setosa\n",
            "72     Iris-versicolor\n",
            "19         Iris-setosa\n",
            "Name: class, Length: 120, dtype: object\n"
          ]
        }
      ]
    },
    {
      "cell_type": "code",
      "source": [
        "SVC_model = svm.SVC()\n",
        "# KNN model requires you to specify n_neighbors,\n",
        "# the number of points the classifier will look at to determine what class a new point belongs to\n",
        "KNN_model = KNeighborsClassifier(n_neighbors=5)"
      ],
      "metadata": {
        "id": "krLNfvMrBypW"
      },
      "execution_count": 33,
      "outputs": []
    },
    {
      "cell_type": "code",
      "source": [
        "SVC_model.fit(X_train, y_train)\n",
        "KNN_model.fit(X_train, y_train)"
      ],
      "metadata": {
        "colab": {
          "base_uri": "https://localhost:8080/",
          "height": 75
        },
        "id": "btiNKPiFCDY4",
        "outputId": "ff761ec6-90a7-4f64-cd57-9a118e1eef71"
      },
      "execution_count": 34,
      "outputs": [
        {
          "output_type": "execute_result",
          "data": {
            "text/plain": [
              "KNeighborsClassifier()"
            ],
            "text/html": [
              "<style>#sk-container-id-1 {color: black;background-color: white;}#sk-container-id-1 pre{padding: 0;}#sk-container-id-1 div.sk-toggleable {background-color: white;}#sk-container-id-1 label.sk-toggleable__label {cursor: pointer;display: block;width: 100%;margin-bottom: 0;padding: 0.3em;box-sizing: border-box;text-align: center;}#sk-container-id-1 label.sk-toggleable__label-arrow:before {content: \"▸\";float: left;margin-right: 0.25em;color: #696969;}#sk-container-id-1 label.sk-toggleable__label-arrow:hover:before {color: black;}#sk-container-id-1 div.sk-estimator:hover label.sk-toggleable__label-arrow:before {color: black;}#sk-container-id-1 div.sk-toggleable__content {max-height: 0;max-width: 0;overflow: hidden;text-align: left;background-color: #f0f8ff;}#sk-container-id-1 div.sk-toggleable__content pre {margin: 0.2em;color: black;border-radius: 0.25em;background-color: #f0f8ff;}#sk-container-id-1 input.sk-toggleable__control:checked~div.sk-toggleable__content {max-height: 200px;max-width: 100%;overflow: auto;}#sk-container-id-1 input.sk-toggleable__control:checked~label.sk-toggleable__label-arrow:before {content: \"▾\";}#sk-container-id-1 div.sk-estimator input.sk-toggleable__control:checked~label.sk-toggleable__label {background-color: #d4ebff;}#sk-container-id-1 div.sk-label input.sk-toggleable__control:checked~label.sk-toggleable__label {background-color: #d4ebff;}#sk-container-id-1 input.sk-hidden--visually {border: 0;clip: rect(1px 1px 1px 1px);clip: rect(1px, 1px, 1px, 1px);height: 1px;margin: -1px;overflow: hidden;padding: 0;position: absolute;width: 1px;}#sk-container-id-1 div.sk-estimator {font-family: monospace;background-color: #f0f8ff;border: 1px dotted black;border-radius: 0.25em;box-sizing: border-box;margin-bottom: 0.5em;}#sk-container-id-1 div.sk-estimator:hover {background-color: #d4ebff;}#sk-container-id-1 div.sk-parallel-item::after {content: \"\";width: 100%;border-bottom: 1px solid gray;flex-grow: 1;}#sk-container-id-1 div.sk-label:hover label.sk-toggleable__label {background-color: #d4ebff;}#sk-container-id-1 div.sk-serial::before {content: \"\";position: absolute;border-left: 1px solid gray;box-sizing: border-box;top: 0;bottom: 0;left: 50%;z-index: 0;}#sk-container-id-1 div.sk-serial {display: flex;flex-direction: column;align-items: center;background-color: white;padding-right: 0.2em;padding-left: 0.2em;position: relative;}#sk-container-id-1 div.sk-item {position: relative;z-index: 1;}#sk-container-id-1 div.sk-parallel {display: flex;align-items: stretch;justify-content: center;background-color: white;position: relative;}#sk-container-id-1 div.sk-item::before, #sk-container-id-1 div.sk-parallel-item::before {content: \"\";position: absolute;border-left: 1px solid gray;box-sizing: border-box;top: 0;bottom: 0;left: 50%;z-index: -1;}#sk-container-id-1 div.sk-parallel-item {display: flex;flex-direction: column;z-index: 1;position: relative;background-color: white;}#sk-container-id-1 div.sk-parallel-item:first-child::after {align-self: flex-end;width: 50%;}#sk-container-id-1 div.sk-parallel-item:last-child::after {align-self: flex-start;width: 50%;}#sk-container-id-1 div.sk-parallel-item:only-child::after {width: 0;}#sk-container-id-1 div.sk-dashed-wrapped {border: 1px dashed gray;margin: 0 0.4em 0.5em 0.4em;box-sizing: border-box;padding-bottom: 0.4em;background-color: white;}#sk-container-id-1 div.sk-label label {font-family: monospace;font-weight: bold;display: inline-block;line-height: 1.2em;}#sk-container-id-1 div.sk-label-container {text-align: center;}#sk-container-id-1 div.sk-container {/* jupyter's `normalize.less` sets `[hidden] { display: none; }` but bootstrap.min.css set `[hidden] { display: none !important; }` so we also need the `!important` here to be able to override the default hidden behavior on the sphinx rendered scikit-learn.org. See: https://github.com/scikit-learn/scikit-learn/issues/21755 */display: inline-block !important;position: relative;}#sk-container-id-1 div.sk-text-repr-fallback {display: none;}</style><div id=\"sk-container-id-1\" class=\"sk-top-container\"><div class=\"sk-text-repr-fallback\"><pre>KNeighborsClassifier()</pre><b>In a Jupyter environment, please rerun this cell to show the HTML representation or trust the notebook. <br />On GitHub, the HTML representation is unable to render, please try loading this page with nbviewer.org.</b></div><div class=\"sk-container\" hidden><div class=\"sk-item\"><div class=\"sk-estimator sk-toggleable\"><input class=\"sk-toggleable__control sk-hidden--visually\" id=\"sk-estimator-id-1\" type=\"checkbox\" checked><label for=\"sk-estimator-id-1\" class=\"sk-toggleable__label sk-toggleable__label-arrow\">KNeighborsClassifier</label><div class=\"sk-toggleable__content\"><pre>KNeighborsClassifier()</pre></div></div></div></div></div>"
            ]
          },
          "metadata": {},
          "execution_count": 34
        }
      ]
    },
    {
      "cell_type": "code",
      "source": [
        "SVC_prediction = SVC_model.predict(X_test)\n",
        "KNN_prediction = KNN_model.predict(X_test)"
      ],
      "metadata": {
        "id": "7SwBd29CCgDq"
      },
      "execution_count": 36,
      "outputs": []
    },
    {
      "cell_type": "code",
      "source": [
        "# Accuracy score is the simplest way to evaluate\n",
        "print(accuracy_score(SVC_prediction, y_test))\n",
        "print(accuracy_score(KNN_prediction, y_test))\n",
        "# But Confusion Matrix and Classification Report give more details about performance\n",
        "print(confusion_matrix(SVC_prediction, y_test))\n",
        "print(classification_report(KNN_prediction, y_test))"
      ],
      "metadata": {
        "colab": {
          "base_uri": "https://localhost:8080/"
        },
        "id": "pvHuSyKmCkrP",
        "outputId": "a768974c-e05d-45d9-df64-ba00f3744144"
      },
      "execution_count": 37,
      "outputs": [
        {
          "output_type": "stream",
          "name": "stdout",
          "text": [
            "0.9333333333333333\n",
            "0.9666666666666667\n",
            "[[ 7  0  0]\n",
            " [ 0 10  1]\n",
            " [ 0  1 11]]\n",
            "                 precision    recall  f1-score   support\n",
            "\n",
            "    Iris-setosa       1.00      1.00      1.00         7\n",
            "Iris-versicolor       1.00      0.92      0.96        12\n",
            " Iris-virginica       0.92      1.00      0.96        11\n",
            "\n",
            "       accuracy                           0.97        30\n",
            "      macro avg       0.97      0.97      0.97        30\n",
            "   weighted avg       0.97      0.97      0.97        30\n",
            "\n"
          ]
        }
      ]
    }
  ]
}