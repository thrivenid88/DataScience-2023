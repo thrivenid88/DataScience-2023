{
 "cells": [
  {
   "cell_type": "code",
   "execution_count": 4,
   "id": "14810d73",
   "metadata": {},
   "outputs": [
    {
     "name": "stdout",
     "output_type": "stream",
     "text": [
      "enter  the number of elements:5\n",
      "4\n",
      "7\n",
      "4\n",
      "6\n",
      "9\n",
      "the list is: [4, 7, 4, 6, 9]\n",
      "number of elements: 5\n",
      "the mean of the set is: 6.0\n",
      "Maximum value: 9\n",
      "Minimum value: 4\n",
      "the range of the set is: 5\n"
     ]
    }
   ],
   "source": [
    "import numpy as np\n",
    "import pandas as pd\n",
    "data=[]\n",
    "nn_range=int(input(\"enter  the number of elements:\"))\n",
    "total=0\n",
    "i=0\n",
    "while(i!=nn_range):\n",
    "    ele=int(input())\n",
    "    data.append(ele)\n",
    "    i=i+1\n",
    "print(\"the list is:\",data)\n",
    "n=len(data)\n",
    "print(\"number of elements:\",n)\n",
    "total=sum(data)\n",
    "mean=total/n\n",
    "max_value=max(data)\n",
    "min_value=min(data)\n",
    "print(\"the mean of the set is:\",mean)\n",
    "for num in data:\n",
    "    if num > max_value:\n",
    "        max_value = num\n",
    "    if num < min_value:\n",
    "        min_value = num\n",
    "print(\"Maximum value:\", max_value)\n",
    "print(\"Minimum value:\", min_value)   \n",
    "range=max_value-min_value\n",
    "print(\"the range of the set is:\",range)"
   ]
  },
  {
   "cell_type": "markdown",
   "id": "ca7ab693",
   "metadata": {},
   "source": [
    "corange=(max_value-min_value)/(max_value+min_value)\n",
    "print(\"the coefficient of range:\",corange)\n",
    "sorted_numbers=sorted(data)\n",
    "print(\"the sorted set is:\",sorted_number)\n",
    "if n%2==0:\n",
    "    mid_index_1=n//2\n",
    "    mid_index_2=mid_index_1-1\n",
    "    median=(sorted_numbers[mid_index_1]+sorted_numbers[mid_index_2])/2\n",
    "else:\n",
    "    median_index=n\n",
    "    median=sorted_numbers[mid_index]\n",
    "print(\"the median is:\",median)"
   ]
  },
  {
   "cell_type": "code",
   "execution_count": null,
   "id": "d2dd123a",
   "metadata": {},
   "outputs": [],
   "source": [
    "frequency={}\n",
    "for num in data:\n",
    "    if num in frequency:\n",
    "        frequency[num]+=1\n",
    "    else:\n",
    "            frequency[num]=1\n",
    "            \n",
    "max_frequency=max(frequency.values())\n",
    "mode=[num for num,freq in frequency.items() if freq==max_frequency]\n",
    "print(\"Mode:\",mode)\n",
    "variance=0\n",
    "for item in data:\n",
    "    variance+=(item-mean)**2\n",
    "    variance1=variance/(n-1)\n",
    "print(\"the variance of the set is:\",variance1)\n",
    "std=variance1**0.5\n",
    "print(\"the standard deviation is:\",std)       "
   ]
  },
  {
   "cell_type": "code",
   "execution_count": null,
   "id": "3cf73e35",
   "metadata": {},
   "outputs": [],
   "source": []
  }
 ],
 "metadata": {
  "kernelspec": {
   "display_name": "Python 3 (ipykernel)",
   "language": "python",
   "name": "python3"
  },
  "language_info": {
   "codemirror_mode": {
    "name": "ipython",
    "version": 3
   },
   "file_extension": ".py",
   "mimetype": "text/x-python",
   "name": "python",
   "nbconvert_exporter": "python",
   "pygments_lexer": "ipython3",
   "version": "3.9.7"
  }
 },
 "nbformat": 4,
 "nbformat_minor": 5
}
